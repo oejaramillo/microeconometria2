{
 "cells": [
  {
   "cell_type": "code",
   "execution_count": 2,
   "metadata": {},
   "outputs": [],
   "source": [
    "import numpy as np\n",
    "import pandas as pd\n",
    "import statsmodels.api as sm\n",
    "import matplotlib.pyplot as plt"
   ]
  },
  {
   "cell_type": "markdown",
   "metadata": {},
   "source": [
    "### Ahora haremos lo mismo que en los otros incisos pero calculamos el ATT"
   ]
  },
  {
   "cell_type": "markdown",
   "metadata": {},
   "source": [
    "### Modelos homogéneos del inciso 1"
   ]
  },
  {
   "cell_type": "code",
   "execution_count": 13,
   "metadata": {},
   "outputs": [
    {
     "name": "stdout",
     "output_type": "stream",
     "text": [
      "El verdadero ATE es: 2500.00\n",
      "El verdadero ATT es: 1999.77\n"
     ]
    }
   ],
   "source": [
    "# Elegimos la semilla\n",
    "np.random.seed(263) # últimos tres dígitos del DNI\n",
    "\n",
    "# Número de observaciones\n",
    "n = 5000\n",
    "\n",
    "# Generamos las edades para tratamiento y control\n",
    "edad_tratamiento = np.random.normal(20, 2.5, int(n / 2))\n",
    "edad_control = np.random.normal(25, 3, int(n / 2))\n",
    "edad = np.concatenate((edad_tratamiento, edad_control))\n",
    "\n",
    "# Generamos la experiencia para tratamiento y control\n",
    "exper_tratamiento = np.random.normal(1.76, 0.5, int(n / 2))\n",
    "exper_control = np.random.normal(2.3, 0.75, int(n / 2))\n",
    "exper = np.concatenate((exper_tratamiento, exper_control))\n",
    "\n",
    "# Variables centradas con respecto a la media\n",
    "edad_c = edad - edad.mean()\n",
    "exper_c = exper - exper.mean()\n",
    "\n",
    "# Variables al cuadrado\n",
    "edad_c2 = edad_c ** 2\n",
    "exper_c2 = exper_c ** 2\n",
    "\n",
    "# Producto cruzado\n",
    "edadexper = edad_c * exper_c\n",
    "\n",
    "# Variable de tratamiento\n",
    "tratamiento = np.concatenate((np.ones(int(n / 2)), np.zeros(int(n / 2))))\n",
    "\n",
    "# Error aleatorio\n",
    "epsilon = np.random.normal(0, 0.5, n)\n",
    "\n",
    "# Resultados potenciales\n",
    "y0 = 15000 + 10.25 * edad_c + 10.5 * edad_c2 + 1000 * exper_c - 10.5 * exper_c2 + 500 * edadexper + epsilon\n",
    "y1 = y0 + 2500 + 100 * edad_c + 1000 * exper_c\n",
    "\n",
    "# Verdadero ATE y ATT\n",
    "ate_verdadero = np.mean(y1 - y0)\n",
    "att_verdadero = np.mean((y1 - y0)[tratamiento == 1])\n",
    "\n",
    "print(f'El verdadero ATE es: {ate_verdadero:.2F}')\n",
    "print(f'El verdadero ATT es: {att_verdadero:.2F}')"
   ]
  },
  {
   "cell_type": "code",
   "execution_count": 28,
   "metadata": {},
   "outputs": [
    {
     "data": {
      "text/plain": [
       "array([17173.52670216])"
      ]
     },
     "execution_count": 28,
     "metadata": {},
     "output_type": "execute_result"
    }
   ],
   "source": [
    "yu = y1*tratamiento + (1-tratamiento)*y0\n",
    "np.mean(yu[tratamiento == 1]) - np.mean(yu[tratamiento == 0])\n",
    "sm.OLS(yu, tratamiento).fit().params"
   ]
  },
  {
   "cell_type": "markdown",
   "metadata": {},
   "source": [
    "Simulación"
   ]
  },
  {
   "cell_type": "code",
   "execution_count": 32,
   "metadata": {},
   "outputs": [
    {
     "name": "stdout",
     "output_type": "stream",
     "text": [
      "El promedio de la estimación del ATT en las 1000 simulaciones para el modelo a) es: 17954.05\n",
      "El promedio de la estimación del ATT en las 1000 simulaciones para el modelo b) es: 2499.73\n"
     ]
    }
   ],
   "source": [
    "# Listas para almacenar los resultados de las simulaciones\n",
    "att_resultados_a = [] # Modelo a)\n",
    "att_resultados_b = [] # Modelo b)\n",
    "\n",
    "# Realizamos las simulaciones\n",
    "simulaciones = 1000\n",
    "for _ in range(simulaciones):\n",
    "    # Generamos el tratamiento aleatoriamente para garantizar que se cumpla independencia\n",
    "    tratamiento_simulacion = np.random.choice([0, 1], size=n)\n",
    "    \n",
    "    # Modelo A: Efecto tratamiento homogéneo y regresión sin términos cuadráticos\n",
    "    X_a = pd.DataFrame({'tratamiento': tratamiento_simulacion, 'edad_c': edad_c, 'experiencia_c': exper_c})\n",
    "    X_at = X_a[X_a['tratamiento'] ==1]\n",
    "    X_at = sm.add_constant(X_at) # Añadimos la constante al modelo\n",
    "    y_a = y1 * tratamiento_simulacion + y0 * (1 - tratamiento_simulacion) # Construimos la variable dependiente con el tratamiento aleatorio\n",
    "    y_at = y_a[tratamiento_simulacion == 1]\n",
    "    model_at = sm.OLS(y_at, X_at).fit()\n",
    "    \n",
    "\n",
    "    X_ac = X_a[X_a['tratamiento'] ==0]\n",
    "    X_ac = sm.add_constant(X_ac)\n",
    "    y_ac = y_a[tratamiento_simulacion == 0]\n",
    "    model_ac = sm.OLS(y_ac, X_ac).fit()\n",
    "    \n",
    "    att_a = model_at.params['tratamiento']-model_ac.params['tratamiento']\n",
    "    att_resultados_a.append(att_a)\n",
    "\n",
    "    # Modelo B: Efecto tratamiento homogéneo y regresión con términos cuadráticos e interacción\n",
    "    X_b = pd.DataFrame({'tratamiento': tratamiento_simulacion, 'edad_c': edad_c, 'edad_c2': edad_c2,\n",
    "                        'experiencia_c': exper_c, 'experiencia_c2': exper_c2, 'edad_experiencia': edadexper})\n",
    "    X_b = sm.add_constant(X_b) # Añadimos la constante al modelo\n",
    "    y_b = y1 * tratamiento_simulacion + y0 * (1 - tratamiento_simulacion) # Construimos la variable dependiente con el tratamiento aleatorio\n",
    "    model_b = sm.OLS(y_b, X_b).fit()\n",
    "    att_b = model_b.params['tratamiento']\n",
    "    att_resultados_b.append(att_b)\n",
    "\n",
    "# Promedio de las estimaciones del ATT en ambas simulaciones\n",
    "att_promedio_a = np.mean(att_resultados_a)\n",
    "att_promedio_b = np.mean(att_resultados_b)\n",
    "\n",
    "print(f'El promedio de la estimación del ATT en las {simulaciones} simulaciones para el modelo a) es: {att_promedio_a:.2F}')\n",
    "print(f'El promedio de la estimación del ATT en las {simulaciones} simulaciones para el modelo b) es: {att_promedio_b:.2F}')\n"
   ]
  },
  {
   "cell_type": "code",
   "execution_count": null,
   "metadata": {},
   "outputs": [
    {
     "name": "stdout",
     "output_type": "stream",
     "text": [
      "El promedio de la estimación del ATE en las 1000 simulaciones para el modelo a) es: 2499.17\n",
      "El promedio de la estimación del ATE en las 1000 simulaciones para el modelo b) es: 2499.78\n"
     ]
    }
   ],
   "source": [
    "# Listas para almacenar los resultados de las simulaciones\n",
    "ate_resultados_a = [] # Modelo a)\n",
    "ate_resultados_b = [] # Modelo b)\n",
    "\n",
    "# Realizamos las\n",
    "simulaciones = 1000\n",
    "for _ in range(simulaciones):\n",
    "    # Generamos el tratamiento aleatoriamente para garantizar que se cumpla independencia\n",
    "    tratamiento_simulacion = np.random.choice([0, 1], size=n)\n",
    "    \n",
    "    # Modelo A: Efecto tratamiento homogéneo y regresión sin términos cuadráticos\n",
    "    X_a = pd.DataFrame({'tratamiento': tratamiento_simulacion, 'edad_c': edad_c, 'experiencia_c': exper_c})\n",
    "    X_a = sm.add_constant(X_a) # Añadimos la constante al modelo\n",
    "    y_a = y1 * tratamiento_simulacion + y0 * (1 - tratamiento_simulacion) # Construimos la variable dependiente con el tratamiento aleatorio\n",
    "    model_a = sm.OLS(y_a, X_a).fit()\n",
    "    ate_a = model_a.params['tratamiento']\n",
    "    ate_resultados_a.append(ate_a)\n",
    "\n",
    "    # Modelo B: Efecto tratamiento homogéneo y regresión con términos cuadráticos e interacción\n",
    "    X_b = pd.DataFrame({'tratamiento': tratamiento_simulacion, 'edad_c': edad_c, 'edad_c2': edad_c2,\n",
    "                        'experiencia_c': exper_c, 'experiencia_c2': exper_c2, 'edad_experiencia': edadexper})\n",
    "    X_b = sm.add_constant(X_b) # Añadimos la constante al modelo\n",
    "    y_b = y1 * tratamiento_simulacion + y0 * (1 - tratamiento_simulacion) # Construimos la variable dependiente con el tratamiento aleatorio\n",
    "    model_b = sm.OLS(y_b, X_b).fit()\n",
    "    ate_b = model_b.params['tratamiento']\n",
    "    ate_resultados_b.append(ate_b)\n",
    "\n",
    "# Promedio de las estimaciones del ATE en ambas simulaciones\n",
    "ate_promedio_a = np.mean(ate_resultados_a)\n",
    "ate_promedio_b = np.mean(ate_resultados_b)\n",
    "\n",
    "print(f'El promedio de la estimación del ATE en las {simulaciones} simulaciones para el modelo a) es: {ate_promedio_a:.2F}')\n",
    "print(f'El promedio de la estimación del ATE en las {simulaciones} simulaciones para el modelo b) es: {ate_promedio_b:.2F}')"
   ]
  },
  {
   "cell_type": "markdown",
   "metadata": {},
   "source": [
    "Gráficos"
   ]
  },
  {
   "cell_type": "code",
   "execution_count": 33,
   "metadata": {},
   "outputs": [
    {
     "ename": "NameError",
     "evalue": "name 'ate_resultados_a' is not defined",
     "output_type": "error",
     "traceback": [
      "\u001b[1;31m---------------------------------------------------------------------------\u001b[0m",
      "\u001b[1;31mNameError\u001b[0m                                 Traceback (most recent call last)",
      "\u001b[1;32mc:\\Oscar Local\\di tella\\microeconometria2\\Ejercicio3.ipynb Cell 10\u001b[0m line \u001b[0;36m2\n\u001b[0;32m      <a href='vscode-notebook-cell:/c%3A/Oscar%20Local/di%20tella/microeconometria2/Ejercicio3.ipynb#X10sZmlsZQ%3D%3D?line=0'>1</a>\u001b[0m \u001b[39m# Gráfico de densidad para el modelo A\u001b[39;00m\n\u001b[1;32m----> <a href='vscode-notebook-cell:/c%3A/Oscar%20Local/di%20tella/microeconometria2/Ejercicio3.ipynb#X10sZmlsZQ%3D%3D?line=1'>2</a>\u001b[0m plt\u001b[39m.\u001b[39mhist(ate_resultados_a, bins\u001b[39m=\u001b[39m\u001b[39m50\u001b[39m, density\u001b[39m=\u001b[39m\u001b[39mTrue\u001b[39;00m, alpha\u001b[39m=\u001b[39m\u001b[39m0.6\u001b[39m, color\u001b[39m=\u001b[39m\u001b[39m'\u001b[39m\u001b[39mb\u001b[39m\u001b[39m'\u001b[39m)\n\u001b[0;32m      <a href='vscode-notebook-cell:/c%3A/Oscar%20Local/di%20tella/microeconometria2/Ejercicio3.ipynb#X10sZmlsZQ%3D%3D?line=2'>3</a>\u001b[0m plt\u001b[39m.\u001b[39maxvline(x\u001b[39m=\u001b[39mate_promedio_a, color\u001b[39m=\u001b[39m\u001b[39m'\u001b[39m\u001b[39mred\u001b[39m\u001b[39m'\u001b[39m, linestyle\u001b[39m=\u001b[39m\u001b[39m'\u001b[39m\u001b[39m--\u001b[39m\u001b[39m'\u001b[39m, label\u001b[39m=\u001b[39m\u001b[39mf\u001b[39m\u001b[39m'\u001b[39m\u001b[39mATE Promedio: \u001b[39m\u001b[39m{\u001b[39;00mate_promedio_a\u001b[39m:\u001b[39;00m\u001b[39m.2f\u001b[39m\u001b[39m}\u001b[39;00m\u001b[39m'\u001b[39m)\n\u001b[0;32m      <a href='vscode-notebook-cell:/c%3A/Oscar%20Local/di%20tella/microeconometria2/Ejercicio3.ipynb#X10sZmlsZQ%3D%3D?line=3'>4</a>\u001b[0m plt\u001b[39m.\u001b[39maxvline(x\u001b[39m=\u001b[39mate_verdadero, color\u001b[39m=\u001b[39m\u001b[39m'\u001b[39m\u001b[39mgreen\u001b[39m\u001b[39m'\u001b[39m, linestyle\u001b[39m=\u001b[39m\u001b[39m'\u001b[39m\u001b[39m--\u001b[39m\u001b[39m'\u001b[39m, label\u001b[39m=\u001b[39m\u001b[39mf\u001b[39m\u001b[39m'\u001b[39m\u001b[39mATE Verdadero: \u001b[39m\u001b[39m{\u001b[39;00mate_verdadero\u001b[39m:\u001b[39;00m\u001b[39m.2f\u001b[39m\u001b[39m}\u001b[39;00m\u001b[39m'\u001b[39m)\n",
      "\u001b[1;31mNameError\u001b[0m: name 'ate_resultados_a' is not defined"
     ]
    }
   ],
   "source": [
    "# Gráfico de densidad para el modelo A\n",
    "plt.hist(ate_resultados_a, bins=50, density=True, alpha=0.6, color='b')\n",
    "plt.axvline(x=ate_promedio_a, color='red', linestyle='--', label=f'ATE Promedio: {ate_promedio_a:.2f}')\n",
    "plt.axvline(x=ate_verdadero, color='green', linestyle='--', label=f'ATE Verdadero: {ate_verdadero:.2f}')\n",
    "plt.xlabel('ATE')\n",
    "plt.ylabel('Densidad')\n",
    "plt.title('Distribución del ATE estimado - Modelo A')\n",
    "plt.legend()\n",
    "plt.show()"
   ]
  },
  {
   "cell_type": "code",
   "execution_count": null,
   "metadata": {},
   "outputs": [
    {
     "data": {
      "image/png": "[encoded data removed]",
      "text/plain": [
       "<Figure size 640x480 with 1 Axes>"
      ]
     },
     "metadata": {},
     "output_type": "display_data"
    }
   ],
   "source": [
    "# Gráfico de densidad para el modelo B\n",
    "plt.hist(ate_resultados_b, bins=50, density=True, alpha=0.6, color='b')\n",
    "plt.axvline(x=ate_promedio_b, color='red', linestyle='--', label=f'ATE Promedio: {ate_promedio_b:.2f}')\n",
    "plt.axvline(x=ate_verdadero, color='green', linestyle='--', label=f'ATE Verdadero: {ate_verdadero:.2f}')\n",
    "plt.xlabel('ATE')\n",
    "plt.ylabel('Densidad')\n",
    "plt.title('Distribución del ATE estimado - Modelo B')\n",
    "plt.legend()\n",
    "plt.show()"
   ]
  }
 ],
 "metadata": {
  "kernelspec": {
   "display_name": "Python 3",
   "language": "python",
   "name": "python3"
  },
  "language_info": {
   "codemirror_mode": {
    "name": "ipython",
    "version": 3
   },
   "file_extension": ".py",
   "mimetype": "text/x-python",
   "name": "python",
   "nbconvert_exporter": "python",
   "pygments_lexer": "ipython3",
   "version": "3.11.2"
  }
 },
 "nbformat": 4,
 "nbformat_minor": 2
}
