{
 "cells": [
  {
   "cell_type": "code",
   "execution_count": 2,
   "metadata": {},
   "outputs": [],
   "source": [
    "import numpy as np\n",
    "import pandas as pd"
   ]
  },
  {
   "cell_type": "markdown",
   "metadata": {},
   "source": [
    "Generamos las observaciones"
   ]
  },
  {
   "cell_type": "code",
   "execution_count": 3,
   "metadata": {},
   "outputs": [],
   "source": [
    "n = 5000\n",
    "seed = 7672\n",
    "\n",
    "# Elegimos la semilla \n",
    "np.random.seed(seed)\n",
    "\n",
    "# Generamos los datos\n",
    "data = pd.DataFrame()\n",
    "\n",
    "edad_valores = np.concatenate([np.random.normal(20, 2.5, 2500), np.random.normal(25, 3, 2500)])\n",
    "data['edad'] = edad_valores\n",
    "exper_valores = np.concatenate([np.random.normal(1.76, 0.5, 2500), np.random.normal(2.3, 0.75, 2500)])\n",
    "data['exper'] = exper_valores\n",
    "\n",
    "# Centramos con respecto a la media\n",
    "data['edad_c'] = data['edad'] - data['edad'].mean()\n",
    "data['exper_c'] = data['exper'] - data['exper'].mean()\n",
    "\n",
    "data['edad_c2'] = data['edad_c'] * data['edad_c']\n",
    "data['exper_c2'] = data['exper_c'] * data['exper_c']\n",
    "\n",
    "data['edadexper'] = data['edad_c'] * data['exper_c']\n",
    "\n",
    "# Más variables\n",
    "data['epsilon'] = np.random.normal(0, 0.5, n)\n",
    "data['trat'] = 1\n",
    "data.loc[2500:5000, 'trat'] = 0"
   ]
  },
  {
   "cell_type": "code",
   "execution_count": 4,
   "metadata": {},
   "outputs": [],
   "source": [
    "# Resultados potenciales\n",
    "data['y0'] = 15000 + 10.25*data['edad_c'] + 10.5*data['edad_c2'] + 1000*data['exper_c'] - 10.5*data['exper_c2'] + 500*data['edadexper'] + data['epsilon']\n",
    "data['y1'] = data['y0'] + 2500 + 100*data['edad_c'] + 1000*data['exper_c']"
   ]
  },
  {
   "cell_type": "markdown",
   "metadata": {},
   "source": [
    "(x^2\\)"
   ]
  },
  {
   "cell_type": "markdown",
   "metadata": {},
   "source": [
    "Switching equation ATE estimado un sola vez \\\n",
    "No se cumple independencia"
   ]
  },
  {
   "cell_type": "code",
   "execution_count": 10,
   "metadata": {},
   "outputs": [
    {
     "data": {
      "text/plain": [
       "1322.0876946112294"
      ]
     },
     "execution_count": 10,
     "metadata": {},
     "output_type": "execute_result"
    }
   ],
   "source": [
    "e_y0_trat0 = data.loc[data['trat'] == 0]['y0'].mean()\n",
    "e_y1_trat1 = data.loc[data['trat'] == 1]['y1'].mean()\n",
    "\n",
    "ate_p = e_y1_trat1 - e_y0_trat0\n",
    "ate_p"
   ]
  },
  {
   "cell_type": "markdown",
   "metadata": {},
   "source": [
    "Verdadero ATE"
   ]
  },
  {
   "cell_type": "code",
   "execution_count": 11,
   "metadata": {},
   "outputs": [
    {
     "data": {
      "text/plain": [
       "2500.0"
      ]
     },
     "execution_count": 11,
     "metadata": {},
     "output_type": "execute_result"
    }
   ],
   "source": [
    "e_y0 = data['y0'].mean()\n",
    "e_y1 = data['y1'].mean()\n",
    "\n",
    "ate = e_y1 - e_y0\n",
    "ate"
   ]
  },
  {
   "cell_type": "markdown",
   "metadata": {},
   "source": [
    "Verdadero ATT \\\n",
    "No se cumple independencia"
   ]
  },
  {
   "cell_type": "code",
   "execution_count": 14,
   "metadata": {},
   "outputs": [
    {
     "data": {
      "text/plain": [
       "1963.574062557549"
      ]
     },
     "execution_count": 14,
     "metadata": {},
     "output_type": "execute_result"
    }
   ],
   "source": [
    "y1_menos_y0 = pd.Series()\n",
    "y1_menos_y0 = data.loc[data['trat'] == 1]['y1'] - data.loc[data['trat'] == 1]['y0']\n",
    "\n",
    "att = y1_menos_y0.mean()\n",
    "att"
   ]
  }
 ],
 "metadata": {
  "kernelspec": {
   "display_name": "Python 3",
   "language": "python",
   "name": "python3"
  },
  "language_info": {
   "codemirror_mode": {
    "name": "ipython",
    "version": 3
   },
   "file_extension": ".py",
   "mimetype": "text/x-python",
   "name": "python",
   "nbconvert_exporter": "python",
   "pygments_lexer": "ipython3",
   "version": "3.11.3"
  },
  "orig_nbformat": 4
 },
 "nbformat": 4,
 "nbformat_minor": 2
}
